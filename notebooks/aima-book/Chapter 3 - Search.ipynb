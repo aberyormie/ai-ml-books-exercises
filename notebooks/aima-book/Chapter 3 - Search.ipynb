{
 "cells": [
  {
   "cell_type": "markdown",
   "metadata": {},
   "source": [
    "## Problem Class"
   ]
  },
  {
   "cell_type": "code",
   "execution_count": 1,
   "metadata": {
    "collapsed": true
   },
   "outputs": [],
   "source": [
    "import utils\n",
    "infinity = float('inf')"
   ]
  },
  {
   "cell_type": "code",
   "execution_count": 2,
   "metadata": {
    "collapsed": false
   },
   "outputs": [],
   "source": [
    "class Problem(object):\n",
    "    def __init__(self, initial_state, goal_state):\n",
    "        \"\"\"Intialise with initial state, and goal state.\n",
    "        Note that in the case of maps, state will be string with name of the places.\n",
    "        \"\"\"\n",
    "        self.initial_state = initial_state\n",
    "        self.goal_state = goal_state\n",
    "        \n",
    "    def actions(self, state):\n",
    "        \"\"\"List of actions that can be taken while at this state.\n",
    "        \"\"\"\n",
    "        raise NotImplementedError\n",
    "        \n",
    "    def result(self, state, action):\n",
    "        \"\"\"The state that results from applying 'action' to 'state'.\n",
    "        \"\"\"\n",
    "        raise NotImplementedError\n",
    "        \n",
    "    def goal_test(self, state):\n",
    "        \"\"\"Test if the goal has been achieved.\n",
    "        \"\"\"\n",
    "        return self.goal_state == state\n",
    "        \n",
    "    def path_cost(self, c, state1, state2, action):\n",
    "        \"\"\"Cost of path from root to state 2. ('c' is the cost from root to state1, \n",
    "        and state2 resulted by applying action to state1.)\n",
    "        \"\"\"\n",
    "        return c + 1\n",
    "        \n",
    "    def value(self, test):\n",
    "        raise NotImplementedError\n"
   ]
  },
  {
   "cell_type": "markdown",
   "metadata": {},
   "source": [
    "## Node Class"
   ]
  },
  {
   "cell_type": "code",
   "execution_count": 3,
   "metadata": {
    "collapsed": false
   },
   "outputs": [],
   "source": [
    "class Node(object):\n",
    "    \n",
    "    def __init__(self, state, parent=None, action=None, path_cost=0):\n",
    "        \"\"\"We initialize this node with this node's state (e.g. name of the place), it's \n",
    "        parent, the action which brought it here from parent, and the total path cost to\n",
    "        reach this node.\n",
    "        \"\"\"\n",
    "        self.state = state\n",
    "        self.action = action\n",
    "        self.parent = parent\n",
    "        self.path_cost = path_cost\n",
    "        self.depth = 0\n",
    "        \n",
    "        if self.parent:\n",
    "            self.depth = self.parent.depth + 1\n",
    "        \n",
    "        \n",
    "    def __repr__(self):\n",
    "        return \"Node is {0}\".format(self.state)\n",
    "    \n",
    "    \n",
    "    def __lt__(self, node):\n",
    "        return self.state < node.state\n",
    "    \n",
    "    \n",
    "    def __eq__(self, other):\n",
    "        return isinstance(other, Node) and self.state == other.state\n",
    "    \n",
    "    \n",
    "    def __hash__(self):\n",
    "        return hash(self.state)\n",
    "        \n",
    "    \n",
    "    def expand(self, problem):\n",
    "        \"\"\"For all the actions possible from this state, find the resultant node of applying \n",
    "        that action. Create a list of all such nodes and return. \n",
    "        \"\"\"\n",
    "        return [self.child_node(problem, actions)\n",
    "            for actions in problem.actions(self.state)]\n",
    "    \n",
    "    \n",
    "    def child_node(self, problem, action):\n",
    "        \"Create and return child node resulting from applying action to current node state.\"\n",
    "        next = problem.result(self.state, action)\n",
    "        return Node(next, self, action, problem.path_cost(self.path_cost, self, next, action))\n",
    "    \n",
    "    \n",
    "    def path(self):\n",
    "        \"Returns the sequence of nodes from parent to this node\"\n",
    "        node = self\n",
    "        path_back = []\n",
    "        while node:\n",
    "            path_back.append(node)\n",
    "            node = node.parent\n",
    "        return list(reversed(path_back))\n",
    "    \n",
    "    \n",
    "    def solution(self):\n",
    "        \"\"\"Return list of all actions between this node and root (We don't query the root for \n",
    "        action because it didn't result from any action, it was initialised.)\n",
    "        \"\"\"\n",
    "        return [node.action for node in self.path()[1:]]\n",
    "    "
   ]
  },
  {
   "cell_type": "markdown",
   "metadata": {},
   "source": [
    "## Graph Class"
   ]
  },
  {
   "cell_type": "code",
   "execution_count": 4,
   "metadata": {
    "collapsed": true
   },
   "outputs": [],
   "source": [
    "class Graph(object):\n",
    "    def __init__(self, dictionary=None, directed=True):\n",
    "        self.dictionary = dictionary or {}\n",
    "        self.directed = directed\n",
    "        if directed == False:\n",
    "            self.make_undirected()\n",
    "            \n",
    "    \n",
    "    def make_undirected(self):\n",
    "        \"\"\"If the graph is suppose to be unidirected, make connections the reverse way too\n",
    "        \"\"\"\n",
    "        for node in list(self.dictionary.keys()):\n",
    "            for (child, distance) in self.dictionary[node].items():\n",
    "                self.connect_nodes(child, node, distance)\n",
    "    \n",
    "    \n",
    "    def connect_nodes(self, A, B, distance=1):\n",
    "        \"\"\"Connect A to B with distance as 'distance'. Also add them in reverse if graph\n",
    "        is undirected.\n",
    "        \"\"\"\n",
    "        self.connect_helper(A, B, distance)\n",
    "        if self.directed == False:\n",
    "            self.connect_helper(B, A, distance)\n",
    "            \n",
    "    \n",
    "    def connect_helper(self, A, B, distance):\n",
    "        self.dictionary.setdefault(A, {})[B] = distance\n",
    "        \n",
    "    \n",
    "    def nodes(self):\n",
    "        return list(self.dictionary.keys())\n",
    "        \n",
    "    \n",
    "    def get(self, A, B = None):\n",
    "        links = self.dictionary.setdefault(A, {})\n",
    "        if B is None:\n",
    "            return links\n",
    "        else:\n",
    "            return links.get(B)\n",
    "    \n",
    "    \n",
    "    def print(self):\n",
    "        for node in self.dictionary:\n",
    "            print(node)\n",
    "            print(self.dictionary[node])\n",
    "    \n",
    "    "
   ]
  },
  {
   "cell_type": "markdown",
   "metadata": {},
   "source": [
    "### Test Graph Class"
   ]
  },
  {
   "cell_type": "code",
   "execution_count": 5,
   "metadata": {
    "collapsed": false
   },
   "outputs": [
    {
     "name": "stdout",
     "output_type": "stream",
     "text": [
      "======= Directed =======\n",
      "a\n",
      "{'c': 10, 'b': 1}\n",
      "c\n",
      "{'b': 8}\n",
      "x\n",
      "{'y': 19, 'a': 7}\n",
      "====== Undirected ======\n",
      "y\n",
      "{'x': 19}\n",
      "x\n",
      "{'y': 19, 'a': 7}\n",
      "a\n",
      "{'x': 7, 'c': 10, 'b': 1}\n",
      "c\n",
      "{'a': 10, 'b': 8}\n",
      "b\n",
      "{'a': 1, 'c': 8}\n"
     ]
    }
   ],
   "source": [
    "print(\"======= Directed =======\")\n",
    "g = Graph({'a' : {'b' : 1, 'c': 10}, 'c' : {'b': 8} }, True)\n",
    "g.connect_nodes('x', 'y', 19)\n",
    "g.connect_nodes('x', 'a', 7)\n",
    "g.print()\n",
    "print(\"====== Undirected ======\")\n",
    "g = Graph({'a' : {'b' : 1, 'c': 10}, 'c' : {'b': 8} }, False)\n",
    "g.connect_nodes('x', 'y', 19)\n",
    "g.connect_nodes('x', 'a', 7)\n",
    "g.print()"
   ]
  },
  {
   "cell_type": "markdown",
   "metadata": {},
   "source": [
    "## GraphProblem Class"
   ]
  },
  {
   "cell_type": "code",
   "execution_count": 6,
   "metadata": {
    "collapsed": true
   },
   "outputs": [],
   "source": [
    "class GraphProblem(Problem):\n",
    "    \n",
    "    def __init__(self, initial_state, goal_state, graph):\n",
    "        Problem.__init__(self, initial_state, goal_state)\n",
    "        self.graph = graph\n",
    "\n",
    "        \n",
    "    def actions(self, state):\n",
    "        \"\"\"List of actions that can be taken while at this state.\n",
    "        \"\"\"\n",
    "        return list(self.graph.get(state).keys())\n",
    "\n",
    "        \n",
    "    def result(self, state, action):\n",
    "        \"\"\"The state that results from applying 'action' to 'state'.\n",
    "        \"\"\"\n",
    "        return action\n",
    "        \n",
    "    \n",
    "    def path_cost(self, c, state1, state2, action):\n",
    "        \"\"\"Cost of path from root to state 2. ('c' is the cost from root to state1, \n",
    "        and state2 resulted by applying action to state1.)\n",
    "        \"\"\"\n",
    "        return c + (self.graph.get(state1, state2) or infinity)\n",
    "        "
   ]
  },
  {
   "cell_type": "code",
   "execution_count": 7,
   "metadata": {
    "collapsed": false
   },
   "outputs": [],
   "source": [
    "-"
   ]
  },
  {
   "cell_type": "code",
   "execution_count": 8,
   "metadata": {
    "collapsed": false
   },
   "outputs": [
    {
     "name": "stdout",
     "output_type": "stream",
     "text": [
      "Neamt\n",
      "{'Iasi': 87}\n",
      "Fagaras\n",
      "{'Bucharest': 211, 'Sibiu': 99}\n",
      "Oradea\n",
      "{'Sibiu': 151, 'Zerind': 71}\n",
      "Zerind\n",
      "{'Oradea': 71, 'Arad': 75}\n",
      "Arad\n",
      "{'Sibiu': 140, 'Timisoara': 118, 'Zerind': 75}\n",
      "Pitesti\n",
      "{'Bucharest': 101, 'Craiova': 138, 'Rimnicu': 97}\n",
      "Mehadia\n",
      "{'Drobeta': 75, 'Lugoj': 70}\n",
      "Giurgiu\n",
      "{'Bucharest': 90}\n",
      "Lugoj\n",
      "{'Mehadia': 70, 'Timisoara': 111}\n",
      "Bucharest\n",
      "{'Urziceni': 85, 'Fagaras': 211, 'Giurgiu': 90, 'Pitesti': 101}\n",
      "Iasi\n",
      "{'Neamt': 87, 'Vaslui': 92}\n",
      "Eforie\n",
      "{'Hirsova': 86}\n",
      "Sibiu\n",
      "{'Rimnicu': 80, 'Fagaras': 99, 'Oradea': 151, 'Arad': 140}\n",
      "Rimnicu\n",
      "{'Craiova': 146, 'Sibiu': 80, 'Pitesti': 97}\n",
      "Drobeta\n",
      "{'Craiova': 120, 'Mehadia': 75}\n",
      "Timisoara\n",
      "{'Arad': 118, 'Lugoj': 111}\n",
      "Craiova\n",
      "{'Rimnicu': 146, 'Drobeta': 120, 'Pitesti': 138}\n",
      "Urziceni\n",
      "{'Bucharest': 85, 'Vaslui': 142, 'Hirsova': 98}\n",
      "Hirsova\n",
      "{'Urziceni': 98, 'Eforie': 86}\n",
      "Vaslui\n",
      "{'Iasi': 92, 'Urziceni': 142}\n"
     ]
    }
   ],
   "source": [
    "romania_problem = GraphProblem('Arad', 'Bucharest', romania_map)\n",
    "romania_problem.graph.print()"
   ]
  },
  {
   "cell_type": "code",
   "execution_count": 9,
   "metadata": {
    "collapsed": true
   },
   "outputs": [],
   "source": [
    "class Fifo(object):\n",
    "    \n",
    "    def __init__(self):\n",
    "        self.l = []\n",
    "        self.back = -1\n",
    "        self.front = 0\n",
    "        \n",
    "    def enqueue(self, object):\n",
    "        self.back += 1\n",
    "        self.l.append(object)\n",
    "        \n",
    "    def dequeue(self):\n",
    "        self.old_front = self.front\n",
    "        self.front += 1\n",
    "        return self.l[self.old_front]\n",
    "    \n",
    "    def items(self):\n",
    "        return self.l[self.front:]\n",
    "    \n",
    "    def empty(self):\n",
    "        return self.back < self.front"
   ]
  },
  {
   "cell_type": "markdown",
   "metadata": {},
   "source": [
    "## Breadth first tree search"
   ]
  },
  {
   "cell_type": "code",
   "execution_count": 10,
   "metadata": {
    "collapsed": true
   },
   "outputs": [],
   "source": [
    "def tree_search(problem, frontier):\n",
    "    iterations = 0\n",
    "    \n",
    "    frontier.append(Node(problem.initial_state))\n",
    "    \n",
    "    while frontier:\n",
    "        node = frontier.pop()\n",
    "     \n",
    "        iterations += 1\n",
    "        print(node.path())\n",
    "        if problem.goal_test(node.state):\n",
    "            return iterations, node\n",
    "        \n",
    "        nodes = node.expand(problem)\n",
    "        for n in nodes:\n",
    "            frontier.append(n)\n",
    "            \n",
    "        # Safety valve\n",
    "        if iterations > 200:\n",
    "            print('Safety valve goes off!')\n",
    "            break\n",
    "        \n",
    "    return iterations, None\n",
    "        "
   ]
  },
  {
   "cell_type": "code",
   "execution_count": 11,
   "metadata": {
    "collapsed": false
   },
   "outputs": [
    {
     "name": "stdout",
     "output_type": "stream",
     "text": [
      "[Node is Arad]\n",
      "[Node is Arad, Node is Sibiu]\n",
      "[Node is Arad, Node is Timisoara]\n",
      "[Node is Arad, Node is Zerind]\n",
      "[Node is Arad, Node is Sibiu, Node is Rimnicu]\n",
      "[Node is Arad, Node is Sibiu, Node is Fagaras]\n",
      "[Node is Arad, Node is Sibiu, Node is Oradea]\n",
      "[Node is Arad, Node is Sibiu, Node is Arad]\n",
      "[Node is Arad, Node is Timisoara, Node is Arad]\n",
      "[Node is Arad, Node is Timisoara, Node is Lugoj]\n",
      "[Node is Arad, Node is Zerind, Node is Oradea]\n",
      "[Node is Arad, Node is Zerind, Node is Arad]\n",
      "[Node is Arad, Node is Sibiu, Node is Rimnicu, Node is Craiova]\n",
      "[Node is Arad, Node is Sibiu, Node is Rimnicu, Node is Sibiu]\n",
      "[Node is Arad, Node is Sibiu, Node is Rimnicu, Node is Pitesti]\n",
      "[Node is Arad, Node is Sibiu, Node is Fagaras, Node is Bucharest]\n",
      "16\n",
      "[Node is Arad, Node is Sibiu, Node is Fagaras, Node is Bucharest]\n"
     ]
    }
   ],
   "source": [
    "\n",
    "i, n = tree_search(romania_problem, utils.FIFOQueue())\n",
    "print(i)\n",
    "print(n.path())\n"
   ]
  },
  {
   "cell_type": "markdown",
   "metadata": {},
   "source": [
    "## Breadth First Graph Search"
   ]
  },
  {
   "cell_type": "code",
   "execution_count": 12,
   "metadata": {
    "collapsed": false
   },
   "outputs": [],
   "source": [
    "def graph_search(problem, frontier):\n",
    "    iterations = 0\n",
    "    safety = 0\n",
    "    node = Node(problem.initial_state)\n",
    "    print(node.path())\n",
    "    if problem.goal_test(node.state):\n",
    "        return iterations, node\n",
    "    \n",
    "    frontier.append(node)\n",
    "    explored = set()\n",
    "    \n",
    "    while frontier:\n",
    "        \n",
    "        node = frontier.pop()\n",
    "        explored.add(node.state)\n",
    "        \n",
    "        nodes = node.expand(problem)\n",
    "        for n in nodes:\n",
    "            \n",
    "            safety += 1\n",
    "            if safety > 100:\n",
    "                print(\"Safety valve goes off!\")\n",
    "                return iterations, None\n",
    "            \n",
    "            # Why are we checking explored AND frontier as well??\n",
    "            # A - We don't need to explore the already explored and\n",
    "            # we don't need to check the nodes in frontier because\n",
    "            # they already got tested for goal before being put there.\n",
    "            \n",
    "            if n.state not in explored and n not in frontier:\n",
    "                iterations += 1\n",
    "                print(n.path())\n",
    "                if problem.goal_test(n.state):\n",
    "                    return iterations, n\n",
    "                \n",
    "                frontier.append(n)\n",
    "            \n",
    "\n",
    "        \n",
    "    return iterations, None\n",
    "        "
   ]
  },
  {
   "cell_type": "code",
   "execution_count": 13,
   "metadata": {
    "collapsed": false
   },
   "outputs": [
    {
     "name": "stdout",
     "output_type": "stream",
     "text": [
      "[Node is Arad]\n",
      "[Node is Arad, Node is Sibiu]\n",
      "[Node is Arad, Node is Timisoara]\n",
      "[Node is Arad, Node is Zerind]\n",
      "[Node is Arad, Node is Sibiu, Node is Rimnicu]\n",
      "[Node is Arad, Node is Sibiu, Node is Fagaras]\n",
      "[Node is Arad, Node is Sibiu, Node is Oradea]\n",
      "[Node is Arad, Node is Timisoara, Node is Lugoj]\n",
      "[Node is Arad, Node is Sibiu, Node is Rimnicu, Node is Craiova]\n",
      "[Node is Arad, Node is Sibiu, Node is Rimnicu, Node is Pitesti]\n",
      "[Node is Arad, Node is Sibiu, Node is Fagaras, Node is Bucharest]\n",
      "10\n",
      "[Node is Arad, Node is Sibiu, Node is Fagaras, Node is Bucharest]\n"
     ]
    }
   ],
   "source": [
    "i, n = graph_search(romania_problem, utils.FIFOQueue())\n",
    "print(i)\n",
    "print(n.path())"
   ]
  },
  {
   "cell_type": "markdown",
   "metadata": {},
   "source": [
    "## Depth First Tree Search"
   ]
  },
  {
   "cell_type": "code",
   "execution_count": 14,
   "metadata": {
    "collapsed": false
   },
   "outputs": [],
   "source": [
    "# Goes into infinite loop\n",
    "#i, n = tree_search(romania_problem, utils.Stack())\n",
    "#print(i)\n",
    "#print(n.path())"
   ]
  },
  {
   "cell_type": "markdown",
   "metadata": {
    "collapsed": true
   },
   "source": [
    "## Depth First Graph Search"
   ]
  },
  {
   "cell_type": "code",
   "execution_count": 15,
   "metadata": {
    "collapsed": false
   },
   "outputs": [
    {
     "name": "stdout",
     "output_type": "stream",
     "text": [
      "[Node is Arad]\n",
      "[Node is Arad, Node is Sibiu]\n",
      "[Node is Arad, Node is Timisoara]\n",
      "[Node is Arad, Node is Zerind]\n",
      "[Node is Arad, Node is Zerind, Node is Oradea]\n",
      "[Node is Arad, Node is Timisoara, Node is Lugoj]\n",
      "[Node is Arad, Node is Timisoara, Node is Lugoj, Node is Mehadia]\n",
      "[Node is Arad, Node is Timisoara, Node is Lugoj, Node is Mehadia, Node is Drobeta]\n",
      "[Node is Arad, Node is Timisoara, Node is Lugoj, Node is Mehadia, Node is Drobeta, Node is Craiova]\n",
      "[Node is Arad, Node is Timisoara, Node is Lugoj, Node is Mehadia, Node is Drobeta, Node is Craiova, Node is Rimnicu]\n",
      "[Node is Arad, Node is Timisoara, Node is Lugoj, Node is Mehadia, Node is Drobeta, Node is Craiova, Node is Pitesti]\n",
      "[Node is Arad, Node is Timisoara, Node is Lugoj, Node is Mehadia, Node is Drobeta, Node is Craiova, Node is Pitesti, Node is Bucharest]\n",
      "11\n",
      "[Node is Arad, Node is Timisoara, Node is Lugoj, Node is Mehadia, Node is Drobeta, Node is Craiova, Node is Pitesti, Node is Bucharest]\n"
     ]
    }
   ],
   "source": [
    "i, n = graph_search(romania_problem, utils.Stack())\n",
    "print(i)\n",
    "print(n.path())"
   ]
  },
  {
   "cell_type": "markdown",
   "metadata": {
    "collapsed": true
   },
   "source": [
    "## Depth Limiting Search"
   ]
  },
  {
   "cell_type": "code",
   "execution_count": 16,
   "metadata": {
    "collapsed": true
   },
   "outputs": [],
   "source": [
    "def recursive_dls(node, problem, limit):\n",
    "    print(node.path())\n",
    "    if problem.goal_test(node.state):\n",
    "        return node\n",
    "    elif limit == 0:\n",
    "        return 'cutoff'\n",
    "    else:\n",
    "        for child in node.expand(problem):\n",
    "            result = recursive_dls(child, problem, limit -1)\n",
    "            if result == 'cutoff':\n",
    "                return result\n",
    "            elif result is not None:\n",
    "                return result\n",
    "            else:\n",
    "                return None\n",
    "            \n",
    "            \n",
    "def depth_limiting_search(problem, limit = 50):\n",
    "    return recursive_dls(Node(problem.initial_state), problem, limit)"
   ]
  },
  {
   "cell_type": "code",
   "execution_count": 17,
   "metadata": {
    "collapsed": false
   },
   "outputs": [
    {
     "name": "stdout",
     "output_type": "stream",
     "text": [
      "[Node is Arad]\n",
      "[Node is Arad, Node is Sibiu]\n",
      "[Node is Arad, Node is Sibiu, Node is Rimnicu]\n",
      "[Node is Arad, Node is Sibiu, Node is Rimnicu, Node is Craiova]\n",
      "[Node is Arad, Node is Sibiu, Node is Rimnicu, Node is Craiova, Node is Rimnicu]\n",
      "[Node is Arad, Node is Sibiu, Node is Rimnicu, Node is Craiova, Node is Rimnicu, Node is Craiova]\n",
      "[Node is Arad, Node is Sibiu, Node is Rimnicu, Node is Craiova, Node is Rimnicu, Node is Craiova, Node is Rimnicu]\n",
      "[Node is Arad, Node is Sibiu, Node is Rimnicu, Node is Craiova, Node is Rimnicu, Node is Craiova, Node is Rimnicu, Node is Craiova]\n",
      "[Node is Arad, Node is Sibiu, Node is Rimnicu, Node is Craiova, Node is Rimnicu, Node is Craiova, Node is Rimnicu, Node is Craiova, Node is Rimnicu]\n",
      "[Node is Arad, Node is Sibiu, Node is Rimnicu, Node is Craiova, Node is Rimnicu, Node is Craiova, Node is Rimnicu, Node is Craiova, Node is Rimnicu, Node is Craiova]\n",
      "[Node is Arad, Node is Sibiu, Node is Rimnicu, Node is Craiova, Node is Rimnicu, Node is Craiova, Node is Rimnicu, Node is Craiova, Node is Rimnicu, Node is Craiova, Node is Rimnicu]\n",
      "[Node is Arad, Node is Sibiu, Node is Rimnicu, Node is Craiova, Node is Rimnicu, Node is Craiova, Node is Rimnicu, Node is Craiova, Node is Rimnicu, Node is Craiova, Node is Rimnicu, Node is Craiova]\n",
      "[Node is Arad, Node is Sibiu, Node is Rimnicu, Node is Craiova, Node is Rimnicu, Node is Craiova, Node is Rimnicu, Node is Craiova, Node is Rimnicu, Node is Craiova, Node is Rimnicu, Node is Craiova, Node is Rimnicu]\n",
      "[Node is Arad, Node is Sibiu, Node is Rimnicu, Node is Craiova, Node is Rimnicu, Node is Craiova, Node is Rimnicu, Node is Craiova, Node is Rimnicu, Node is Craiova, Node is Rimnicu, Node is Craiova, Node is Rimnicu, Node is Craiova]\n",
      "[Node is Arad, Node is Sibiu, Node is Rimnicu, Node is Craiova, Node is Rimnicu, Node is Craiova, Node is Rimnicu, Node is Craiova, Node is Rimnicu, Node is Craiova, Node is Rimnicu, Node is Craiova, Node is Rimnicu, Node is Craiova, Node is Rimnicu]\n",
      "[Node is Arad, Node is Sibiu, Node is Rimnicu, Node is Craiova, Node is Rimnicu, Node is Craiova, Node is Rimnicu, Node is Craiova, Node is Rimnicu, Node is Craiova, Node is Rimnicu, Node is Craiova, Node is Rimnicu, Node is Craiova, Node is Rimnicu, Node is Craiova]\n",
      "[Node is Arad, Node is Sibiu, Node is Rimnicu, Node is Craiova, Node is Rimnicu, Node is Craiova, Node is Rimnicu, Node is Craiova, Node is Rimnicu, Node is Craiova, Node is Rimnicu, Node is Craiova, Node is Rimnicu, Node is Craiova, Node is Rimnicu, Node is Craiova, Node is Rimnicu]\n",
      "[Node is Arad, Node is Sibiu, Node is Rimnicu, Node is Craiova, Node is Rimnicu, Node is Craiova, Node is Rimnicu, Node is Craiova, Node is Rimnicu, Node is Craiova, Node is Rimnicu, Node is Craiova, Node is Rimnicu, Node is Craiova, Node is Rimnicu, Node is Craiova, Node is Rimnicu, Node is Craiova]\n",
      "[Node is Arad, Node is Sibiu, Node is Rimnicu, Node is Craiova, Node is Rimnicu, Node is Craiova, Node is Rimnicu, Node is Craiova, Node is Rimnicu, Node is Craiova, Node is Rimnicu, Node is Craiova, Node is Rimnicu, Node is Craiova, Node is Rimnicu, Node is Craiova, Node is Rimnicu, Node is Craiova, Node is Rimnicu]\n",
      "[Node is Arad, Node is Sibiu, Node is Rimnicu, Node is Craiova, Node is Rimnicu, Node is Craiova, Node is Rimnicu, Node is Craiova, Node is Rimnicu, Node is Craiova, Node is Rimnicu, Node is Craiova, Node is Rimnicu, Node is Craiova, Node is Rimnicu, Node is Craiova, Node is Rimnicu, Node is Craiova, Node is Rimnicu, Node is Craiova]\n",
      "[Node is Arad, Node is Sibiu, Node is Rimnicu, Node is Craiova, Node is Rimnicu, Node is Craiova, Node is Rimnicu, Node is Craiova, Node is Rimnicu, Node is Craiova, Node is Rimnicu, Node is Craiova, Node is Rimnicu, Node is Craiova, Node is Rimnicu, Node is Craiova, Node is Rimnicu, Node is Craiova, Node is Rimnicu, Node is Craiova, Node is Rimnicu]\n",
      "[Node is Arad, Node is Sibiu, Node is Rimnicu, Node is Craiova, Node is Rimnicu, Node is Craiova, Node is Rimnicu, Node is Craiova, Node is Rimnicu, Node is Craiova, Node is Rimnicu, Node is Craiova, Node is Rimnicu, Node is Craiova, Node is Rimnicu, Node is Craiova, Node is Rimnicu, Node is Craiova, Node is Rimnicu, Node is Craiova, Node is Rimnicu, Node is Craiova]\n",
      "[Node is Arad, Node is Sibiu, Node is Rimnicu, Node is Craiova, Node is Rimnicu, Node is Craiova, Node is Rimnicu, Node is Craiova, Node is Rimnicu, Node is Craiova, Node is Rimnicu, Node is Craiova, Node is Rimnicu, Node is Craiova, Node is Rimnicu, Node is Craiova, Node is Rimnicu, Node is Craiova, Node is Rimnicu, Node is Craiova, Node is Rimnicu, Node is Craiova, Node is Rimnicu]\n",
      "[Node is Arad, Node is Sibiu, Node is Rimnicu, Node is Craiova, Node is Rimnicu, Node is Craiova, Node is Rimnicu, Node is Craiova, Node is Rimnicu, Node is Craiova, Node is Rimnicu, Node is Craiova, Node is Rimnicu, Node is Craiova, Node is Rimnicu, Node is Craiova, Node is Rimnicu, Node is Craiova, Node is Rimnicu, Node is Craiova, Node is Rimnicu, Node is Craiova, Node is Rimnicu, Node is Craiova]\n",
      "[Node is Arad, Node is Sibiu, Node is Rimnicu, Node is Craiova, Node is Rimnicu, Node is Craiova, Node is Rimnicu, Node is Craiova, Node is Rimnicu, Node is Craiova, Node is Rimnicu, Node is Craiova, Node is Rimnicu, Node is Craiova, Node is Rimnicu, Node is Craiova, Node is Rimnicu, Node is Craiova, Node is Rimnicu, Node is Craiova, Node is Rimnicu, Node is Craiova, Node is Rimnicu, Node is Craiova, Node is Rimnicu]\n",
      "[Node is Arad, Node is Sibiu, Node is Rimnicu, Node is Craiova, Node is Rimnicu, Node is Craiova, Node is Rimnicu, Node is Craiova, Node is Rimnicu, Node is Craiova, Node is Rimnicu, Node is Craiova, Node is Rimnicu, Node is Craiova, Node is Rimnicu, Node is Craiova, Node is Rimnicu, Node is Craiova, Node is Rimnicu, Node is Craiova, Node is Rimnicu, Node is Craiova, Node is Rimnicu, Node is Craiova, Node is Rimnicu, Node is Craiova]\n",
      "[Node is Arad, Node is Sibiu, Node is Rimnicu, Node is Craiova, Node is Rimnicu, Node is Craiova, Node is Rimnicu, Node is Craiova, Node is Rimnicu, Node is Craiova, Node is Rimnicu, Node is Craiova, Node is Rimnicu, Node is Craiova, Node is Rimnicu, Node is Craiova, Node is Rimnicu, Node is Craiova, Node is Rimnicu, Node is Craiova, Node is Rimnicu, Node is Craiova, Node is Rimnicu, Node is Craiova, Node is Rimnicu, Node is Craiova, Node is Rimnicu]\n",
      "[Node is Arad, Node is Sibiu, Node is Rimnicu, Node is Craiova, Node is Rimnicu, Node is Craiova, Node is Rimnicu, Node is Craiova, Node is Rimnicu, Node is Craiova, Node is Rimnicu, Node is Craiova, Node is Rimnicu, Node is Craiova, Node is Rimnicu, Node is Craiova, Node is Rimnicu, Node is Craiova, Node is Rimnicu, Node is Craiova, Node is Rimnicu, Node is Craiova, Node is Rimnicu, Node is Craiova, Node is Rimnicu, Node is Craiova, Node is Rimnicu, Node is Craiova]\n",
      "[Node is Arad, Node is Sibiu, Node is Rimnicu, Node is Craiova, Node is Rimnicu, Node is Craiova, Node is Rimnicu, Node is Craiova, Node is Rimnicu, Node is Craiova, Node is Rimnicu, Node is Craiova, Node is Rimnicu, Node is Craiova, Node is Rimnicu, Node is Craiova, Node is Rimnicu, Node is Craiova, Node is Rimnicu, Node is Craiova, Node is Rimnicu, Node is Craiova, Node is Rimnicu, Node is Craiova, Node is Rimnicu, Node is Craiova, Node is Rimnicu, Node is Craiova, Node is Rimnicu]\n",
      "[Node is Arad, Node is Sibiu, Node is Rimnicu, Node is Craiova, Node is Rimnicu, Node is Craiova, Node is Rimnicu, Node is Craiova, Node is Rimnicu, Node is Craiova, Node is Rimnicu, Node is Craiova, Node is Rimnicu, Node is Craiova, Node is Rimnicu, Node is Craiova, Node is Rimnicu, Node is Craiova, Node is Rimnicu, Node is Craiova, Node is Rimnicu, Node is Craiova, Node is Rimnicu, Node is Craiova, Node is Rimnicu, Node is Craiova, Node is Rimnicu, Node is Craiova, Node is Rimnicu, Node is Craiova]\n",
      "[Node is Arad, Node is Sibiu, Node is Rimnicu, Node is Craiova, Node is Rimnicu, Node is Craiova, Node is Rimnicu, Node is Craiova, Node is Rimnicu, Node is Craiova, Node is Rimnicu, Node is Craiova, Node is Rimnicu, Node is Craiova, Node is Rimnicu, Node is Craiova, Node is Rimnicu, Node is Craiova, Node is Rimnicu, Node is Craiova, Node is Rimnicu, Node is Craiova, Node is Rimnicu, Node is Craiova, Node is Rimnicu, Node is Craiova, Node is Rimnicu, Node is Craiova, Node is Rimnicu, Node is Craiova, Node is Rimnicu]\n",
      "[Node is Arad, Node is Sibiu, Node is Rimnicu, Node is Craiova, Node is Rimnicu, Node is Craiova, Node is Rimnicu, Node is Craiova, Node is Rimnicu, Node is Craiova, Node is Rimnicu, Node is Craiova, Node is Rimnicu, Node is Craiova, Node is Rimnicu, Node is Craiova, Node is Rimnicu, Node is Craiova, Node is Rimnicu, Node is Craiova, Node is Rimnicu, Node is Craiova, Node is Rimnicu, Node is Craiova, Node is Rimnicu, Node is Craiova, Node is Rimnicu, Node is Craiova, Node is Rimnicu, Node is Craiova, Node is Rimnicu, Node is Craiova]\n",
      "[Node is Arad, Node is Sibiu, Node is Rimnicu, Node is Craiova, Node is Rimnicu, Node is Craiova, Node is Rimnicu, Node is Craiova, Node is Rimnicu, Node is Craiova, Node is Rimnicu, Node is Craiova, Node is Rimnicu, Node is Craiova, Node is Rimnicu, Node is Craiova, Node is Rimnicu, Node is Craiova, Node is Rimnicu, Node is Craiova, Node is Rimnicu, Node is Craiova, Node is Rimnicu, Node is Craiova, Node is Rimnicu, Node is Craiova, Node is Rimnicu, Node is Craiova, Node is Rimnicu, Node is Craiova, Node is Rimnicu, Node is Craiova, Node is Rimnicu]\n",
      "[Node is Arad, Node is Sibiu, Node is Rimnicu, Node is Craiova, Node is Rimnicu, Node is Craiova, Node is Rimnicu, Node is Craiova, Node is Rimnicu, Node is Craiova, Node is Rimnicu, Node is Craiova, Node is Rimnicu, Node is Craiova, Node is Rimnicu, Node is Craiova, Node is Rimnicu, Node is Craiova, Node is Rimnicu, Node is Craiova, Node is Rimnicu, Node is Craiova, Node is Rimnicu, Node is Craiova, Node is Rimnicu, Node is Craiova, Node is Rimnicu, Node is Craiova, Node is Rimnicu, Node is Craiova, Node is Rimnicu, Node is Craiova, Node is Rimnicu, Node is Craiova]\n",
      "[Node is Arad, Node is Sibiu, Node is Rimnicu, Node is Craiova, Node is Rimnicu, Node is Craiova, Node is Rimnicu, Node is Craiova, Node is Rimnicu, Node is Craiova, Node is Rimnicu, Node is Craiova, Node is Rimnicu, Node is Craiova, Node is Rimnicu, Node is Craiova, Node is Rimnicu, Node is Craiova, Node is Rimnicu, Node is Craiova, Node is Rimnicu, Node is Craiova, Node is Rimnicu, Node is Craiova, Node is Rimnicu, Node is Craiova, Node is Rimnicu, Node is Craiova, Node is Rimnicu, Node is Craiova, Node is Rimnicu, Node is Craiova, Node is Rimnicu, Node is Craiova, Node is Rimnicu]\n",
      "[Node is Arad, Node is Sibiu, Node is Rimnicu, Node is Craiova, Node is Rimnicu, Node is Craiova, Node is Rimnicu, Node is Craiova, Node is Rimnicu, Node is Craiova, Node is Rimnicu, Node is Craiova, Node is Rimnicu, Node is Craiova, Node is Rimnicu, Node is Craiova, Node is Rimnicu, Node is Craiova, Node is Rimnicu, Node is Craiova, Node is Rimnicu, Node is Craiova, Node is Rimnicu, Node is Craiova, Node is Rimnicu, Node is Craiova, Node is Rimnicu, Node is Craiova, Node is Rimnicu, Node is Craiova, Node is Rimnicu, Node is Craiova, Node is Rimnicu, Node is Craiova, Node is Rimnicu, Node is Craiova]\n",
      "[Node is Arad, Node is Sibiu, Node is Rimnicu, Node is Craiova, Node is Rimnicu, Node is Craiova, Node is Rimnicu, Node is Craiova, Node is Rimnicu, Node is Craiova, Node is Rimnicu, Node is Craiova, Node is Rimnicu, Node is Craiova, Node is Rimnicu, Node is Craiova, Node is Rimnicu, Node is Craiova, Node is Rimnicu, Node is Craiova, Node is Rimnicu, Node is Craiova, Node is Rimnicu, Node is Craiova, Node is Rimnicu, Node is Craiova, Node is Rimnicu, Node is Craiova, Node is Rimnicu, Node is Craiova, Node is Rimnicu, Node is Craiova, Node is Rimnicu, Node is Craiova, Node is Rimnicu, Node is Craiova, Node is Rimnicu]\n",
      "[Node is Arad, Node is Sibiu, Node is Rimnicu, Node is Craiova, Node is Rimnicu, Node is Craiova, Node is Rimnicu, Node is Craiova, Node is Rimnicu, Node is Craiova, Node is Rimnicu, Node is Craiova, Node is Rimnicu, Node is Craiova, Node is Rimnicu, Node is Craiova, Node is Rimnicu, Node is Craiova, Node is Rimnicu, Node is Craiova, Node is Rimnicu, Node is Craiova, Node is Rimnicu, Node is Craiova, Node is Rimnicu, Node is Craiova, Node is Rimnicu, Node is Craiova, Node is Rimnicu, Node is Craiova, Node is Rimnicu, Node is Craiova, Node is Rimnicu, Node is Craiova, Node is Rimnicu, Node is Craiova, Node is Rimnicu, Node is Craiova]\n",
      "[Node is Arad, Node is Sibiu, Node is Rimnicu, Node is Craiova, Node is Rimnicu, Node is Craiova, Node is Rimnicu, Node is Craiova, Node is Rimnicu, Node is Craiova, Node is Rimnicu, Node is Craiova, Node is Rimnicu, Node is Craiova, Node is Rimnicu, Node is Craiova, Node is Rimnicu, Node is Craiova, Node is Rimnicu, Node is Craiova, Node is Rimnicu, Node is Craiova, Node is Rimnicu, Node is Craiova, Node is Rimnicu, Node is Craiova, Node is Rimnicu, Node is Craiova, Node is Rimnicu, Node is Craiova, Node is Rimnicu, Node is Craiova, Node is Rimnicu, Node is Craiova, Node is Rimnicu, Node is Craiova, Node is Rimnicu, Node is Craiova, Node is Rimnicu]\n",
      "[Node is Arad, Node is Sibiu, Node is Rimnicu, Node is Craiova, Node is Rimnicu, Node is Craiova, Node is Rimnicu, Node is Craiova, Node is Rimnicu, Node is Craiova, Node is Rimnicu, Node is Craiova, Node is Rimnicu, Node is Craiova, Node is Rimnicu, Node is Craiova, Node is Rimnicu, Node is Craiova, Node is Rimnicu, Node is Craiova, Node is Rimnicu, Node is Craiova, Node is Rimnicu, Node is Craiova, Node is Rimnicu, Node is Craiova, Node is Rimnicu, Node is Craiova, Node is Rimnicu, Node is Craiova, Node is Rimnicu, Node is Craiova, Node is Rimnicu, Node is Craiova, Node is Rimnicu, Node is Craiova, Node is Rimnicu, Node is Craiova, Node is Rimnicu, Node is Craiova]\n",
      "[Node is Arad, Node is Sibiu, Node is Rimnicu, Node is Craiova, Node is Rimnicu, Node is Craiova, Node is Rimnicu, Node is Craiova, Node is Rimnicu, Node is Craiova, Node is Rimnicu, Node is Craiova, Node is Rimnicu, Node is Craiova, Node is Rimnicu, Node is Craiova, Node is Rimnicu, Node is Craiova, Node is Rimnicu, Node is Craiova, Node is Rimnicu, Node is Craiova, Node is Rimnicu, Node is Craiova, Node is Rimnicu, Node is Craiova, Node is Rimnicu, Node is Craiova, Node is Rimnicu, Node is Craiova, Node is Rimnicu, Node is Craiova, Node is Rimnicu, Node is Craiova, Node is Rimnicu, Node is Craiova, Node is Rimnicu, Node is Craiova, Node is Rimnicu, Node is Craiova, Node is Rimnicu]\n",
      "[Node is Arad, Node is Sibiu, Node is Rimnicu, Node is Craiova, Node is Rimnicu, Node is Craiova, Node is Rimnicu, Node is Craiova, Node is Rimnicu, Node is Craiova, Node is Rimnicu, Node is Craiova, Node is Rimnicu, Node is Craiova, Node is Rimnicu, Node is Craiova, Node is Rimnicu, Node is Craiova, Node is Rimnicu, Node is Craiova, Node is Rimnicu, Node is Craiova, Node is Rimnicu, Node is Craiova, Node is Rimnicu, Node is Craiova, Node is Rimnicu, Node is Craiova, Node is Rimnicu, Node is Craiova, Node is Rimnicu, Node is Craiova, Node is Rimnicu, Node is Craiova, Node is Rimnicu, Node is Craiova, Node is Rimnicu, Node is Craiova, Node is Rimnicu, Node is Craiova, Node is Rimnicu, Node is Craiova]\n",
      "[Node is Arad, Node is Sibiu, Node is Rimnicu, Node is Craiova, Node is Rimnicu, Node is Craiova, Node is Rimnicu, Node is Craiova, Node is Rimnicu, Node is Craiova, Node is Rimnicu, Node is Craiova, Node is Rimnicu, Node is Craiova, Node is Rimnicu, Node is Craiova, Node is Rimnicu, Node is Craiova, Node is Rimnicu, Node is Craiova, Node is Rimnicu, Node is Craiova, Node is Rimnicu, Node is Craiova, Node is Rimnicu, Node is Craiova, Node is Rimnicu, Node is Craiova, Node is Rimnicu, Node is Craiova, Node is Rimnicu, Node is Craiova, Node is Rimnicu, Node is Craiova, Node is Rimnicu, Node is Craiova, Node is Rimnicu, Node is Craiova, Node is Rimnicu, Node is Craiova, Node is Rimnicu, Node is Craiova, Node is Rimnicu]\n",
      "[Node is Arad, Node is Sibiu, Node is Rimnicu, Node is Craiova, Node is Rimnicu, Node is Craiova, Node is Rimnicu, Node is Craiova, Node is Rimnicu, Node is Craiova, Node is Rimnicu, Node is Craiova, Node is Rimnicu, Node is Craiova, Node is Rimnicu, Node is Craiova, Node is Rimnicu, Node is Craiova, Node is Rimnicu, Node is Craiova, Node is Rimnicu, Node is Craiova, Node is Rimnicu, Node is Craiova, Node is Rimnicu, Node is Craiova, Node is Rimnicu, Node is Craiova, Node is Rimnicu, Node is Craiova, Node is Rimnicu, Node is Craiova, Node is Rimnicu, Node is Craiova, Node is Rimnicu, Node is Craiova, Node is Rimnicu, Node is Craiova, Node is Rimnicu, Node is Craiova, Node is Rimnicu, Node is Craiova, Node is Rimnicu, Node is Craiova]\n",
      "[Node is Arad, Node is Sibiu, Node is Rimnicu, Node is Craiova, Node is Rimnicu, Node is Craiova, Node is Rimnicu, Node is Craiova, Node is Rimnicu, Node is Craiova, Node is Rimnicu, Node is Craiova, Node is Rimnicu, Node is Craiova, Node is Rimnicu, Node is Craiova, Node is Rimnicu, Node is Craiova, Node is Rimnicu, Node is Craiova, Node is Rimnicu, Node is Craiova, Node is Rimnicu, Node is Craiova, Node is Rimnicu, Node is Craiova, Node is Rimnicu, Node is Craiova, Node is Rimnicu, Node is Craiova, Node is Rimnicu, Node is Craiova, Node is Rimnicu, Node is Craiova, Node is Rimnicu, Node is Craiova, Node is Rimnicu, Node is Craiova, Node is Rimnicu, Node is Craiova, Node is Rimnicu, Node is Craiova, Node is Rimnicu, Node is Craiova, Node is Rimnicu]\n",
      "[Node is Arad, Node is Sibiu, Node is Rimnicu, Node is Craiova, Node is Rimnicu, Node is Craiova, Node is Rimnicu, Node is Craiova, Node is Rimnicu, Node is Craiova, Node is Rimnicu, Node is Craiova, Node is Rimnicu, Node is Craiova, Node is Rimnicu, Node is Craiova, Node is Rimnicu, Node is Craiova, Node is Rimnicu, Node is Craiova, Node is Rimnicu, Node is Craiova, Node is Rimnicu, Node is Craiova, Node is Rimnicu, Node is Craiova, Node is Rimnicu, Node is Craiova, Node is Rimnicu, Node is Craiova, Node is Rimnicu, Node is Craiova, Node is Rimnicu, Node is Craiova, Node is Rimnicu, Node is Craiova, Node is Rimnicu, Node is Craiova, Node is Rimnicu, Node is Craiova, Node is Rimnicu, Node is Craiova, Node is Rimnicu, Node is Craiova, Node is Rimnicu, Node is Craiova]\n",
      "[Node is Arad, Node is Sibiu, Node is Rimnicu, Node is Craiova, Node is Rimnicu, Node is Craiova, Node is Rimnicu, Node is Craiova, Node is Rimnicu, Node is Craiova, Node is Rimnicu, Node is Craiova, Node is Rimnicu, Node is Craiova, Node is Rimnicu, Node is Craiova, Node is Rimnicu, Node is Craiova, Node is Rimnicu, Node is Craiova, Node is Rimnicu, Node is Craiova, Node is Rimnicu, Node is Craiova, Node is Rimnicu, Node is Craiova, Node is Rimnicu, Node is Craiova, Node is Rimnicu, Node is Craiova, Node is Rimnicu, Node is Craiova, Node is Rimnicu, Node is Craiova, Node is Rimnicu, Node is Craiova, Node is Rimnicu, Node is Craiova, Node is Rimnicu, Node is Craiova, Node is Rimnicu, Node is Craiova, Node is Rimnicu, Node is Craiova, Node is Rimnicu, Node is Craiova, Node is Rimnicu]\n",
      "[Node is Arad, Node is Sibiu, Node is Rimnicu, Node is Craiova, Node is Rimnicu, Node is Craiova, Node is Rimnicu, Node is Craiova, Node is Rimnicu, Node is Craiova, Node is Rimnicu, Node is Craiova, Node is Rimnicu, Node is Craiova, Node is Rimnicu, Node is Craiova, Node is Rimnicu, Node is Craiova, Node is Rimnicu, Node is Craiova, Node is Rimnicu, Node is Craiova, Node is Rimnicu, Node is Craiova, Node is Rimnicu, Node is Craiova, Node is Rimnicu, Node is Craiova, Node is Rimnicu, Node is Craiova, Node is Rimnicu, Node is Craiova, Node is Rimnicu, Node is Craiova, Node is Rimnicu, Node is Craiova, Node is Rimnicu, Node is Craiova, Node is Rimnicu, Node is Craiova, Node is Rimnicu, Node is Craiova, Node is Rimnicu, Node is Craiova, Node is Rimnicu, Node is Craiova, Node is Rimnicu, Node is Craiova]\n",
      "[Node is Arad, Node is Sibiu, Node is Rimnicu, Node is Craiova, Node is Rimnicu, Node is Craiova, Node is Rimnicu, Node is Craiova, Node is Rimnicu, Node is Craiova, Node is Rimnicu, Node is Craiova, Node is Rimnicu, Node is Craiova, Node is Rimnicu, Node is Craiova, Node is Rimnicu, Node is Craiova, Node is Rimnicu, Node is Craiova, Node is Rimnicu, Node is Craiova, Node is Rimnicu, Node is Craiova, Node is Rimnicu, Node is Craiova, Node is Rimnicu, Node is Craiova, Node is Rimnicu, Node is Craiova, Node is Rimnicu, Node is Craiova, Node is Rimnicu, Node is Craiova, Node is Rimnicu, Node is Craiova, Node is Rimnicu, Node is Craiova, Node is Rimnicu, Node is Craiova, Node is Rimnicu, Node is Craiova, Node is Rimnicu, Node is Craiova, Node is Rimnicu, Node is Craiova, Node is Rimnicu, Node is Craiova, Node is Rimnicu]\n",
      "[Node is Arad, Node is Sibiu, Node is Rimnicu, Node is Craiova, Node is Rimnicu, Node is Craiova, Node is Rimnicu, Node is Craiova, Node is Rimnicu, Node is Craiova, Node is Rimnicu, Node is Craiova, Node is Rimnicu, Node is Craiova, Node is Rimnicu, Node is Craiova, Node is Rimnicu, Node is Craiova, Node is Rimnicu, Node is Craiova, Node is Rimnicu, Node is Craiova, Node is Rimnicu, Node is Craiova, Node is Rimnicu, Node is Craiova, Node is Rimnicu, Node is Craiova, Node is Rimnicu, Node is Craiova, Node is Rimnicu, Node is Craiova, Node is Rimnicu, Node is Craiova, Node is Rimnicu, Node is Craiova, Node is Rimnicu, Node is Craiova, Node is Rimnicu, Node is Craiova, Node is Rimnicu, Node is Craiova, Node is Rimnicu, Node is Craiova, Node is Rimnicu, Node is Craiova, Node is Rimnicu, Node is Craiova, Node is Rimnicu, Node is Craiova]\n",
      "[Node is Arad, Node is Sibiu, Node is Rimnicu, Node is Craiova, Node is Rimnicu, Node is Craiova, Node is Rimnicu, Node is Craiova, Node is Rimnicu, Node is Craiova, Node is Rimnicu, Node is Craiova, Node is Rimnicu, Node is Craiova, Node is Rimnicu, Node is Craiova, Node is Rimnicu, Node is Craiova, Node is Rimnicu, Node is Craiova, Node is Rimnicu, Node is Craiova, Node is Rimnicu, Node is Craiova, Node is Rimnicu, Node is Craiova, Node is Rimnicu, Node is Craiova, Node is Rimnicu, Node is Craiova, Node is Rimnicu, Node is Craiova, Node is Rimnicu, Node is Craiova, Node is Rimnicu, Node is Craiova, Node is Rimnicu, Node is Craiova, Node is Rimnicu, Node is Craiova, Node is Rimnicu, Node is Craiova, Node is Rimnicu, Node is Craiova, Node is Rimnicu, Node is Craiova, Node is Rimnicu, Node is Craiova, Node is Rimnicu, Node is Craiova, Node is Rimnicu]\n"
     ]
    }
   ],
   "source": [
    "\n",
    "val = depth_limiting_search(romania_problem)\n",
    "if isinstance(val, Node):\n",
    "    val.path()"
   ]
  },
  {
   "cell_type": "markdown",
   "metadata": {},
   "source": [
    "## Iterative deepening search"
   ]
  },
  {
   "cell_type": "code",
   "execution_count": 18,
   "metadata": {
    "collapsed": true
   },
   "outputs": [],
   "source": [
    "def iterative_deepening_search(problem):\n",
    "    \"\"\"[Figure 3.18]\"\"\"\n",
    "    for depth in range(sys.maxsize):\n",
    "        result = depth_limited_search(problem, depth)\n",
    "        if result != 'cutoff':\n",
    "            return result\n"
   ]
  },
  {
   "cell_type": "markdown",
   "metadata": {},
   "source": [
    "## Best First Search\n",
    "## A* Search\n",
    "## Recursive Best First Search"
   ]
  },
  {
   "cell_type": "markdown",
   "metadata": {},
   "source": [
    "## Uniform Cost Search"
   ]
  },
  {
   "cell_type": "code",
   "execution_count": 19,
   "metadata": {
    "collapsed": true
   },
   "outputs": [],
   "source": [
    "def best_first_graph_search(problem, frontier):\n",
    "    iterations = 0\n",
    "    \n",
    "    node = Node(problem.initial_state)\n",
    "    print(node.path())\n",
    "    if problem.goal_test(node.state):\n",
    "        return iterations, node\n",
    "    \n",
    "    frontier.append(node)\n",
    "    explored = set()\n",
    "    \n",
    "    while frontier:\n",
    "        \n",
    "        node = frontier.pop()\n",
    "        explored.add(node.state)\n",
    "        \n",
    "        iterations += 1\n",
    "        print(node.path())\n",
    "        if problem.goal_test(node.state):\n",
    "            return iterations, node\n",
    "        \n",
    "        nodes = node.expand(problem)\n",
    "        for n in nodes:\n",
    "            if n.state not in explored and n not in frontier:\n",
    "                frontier.append(n)\n",
    "            elif n in frontier:\n",
    "                incumbent = frontier[n]\n",
    "                if incumbent.path_cost > n.path_cost:\n",
    "                    print(\"Savings!\")\n",
    "                    del frontier[incumbent]\n",
    "                    frontier.append(n)\n",
    "        \n",
    "    return iterations, None\n",
    "        "
   ]
  },
  {
   "cell_type": "code",
   "execution_count": 20,
   "metadata": {
    "collapsed": false
   },
   "outputs": [
    {
     "name": "stdout",
     "output_type": "stream",
     "text": [
      "[Node is Arad]\n",
      "[Node is Arad]\n",
      "[Node is Arad, Node is Sibiu]\n",
      "[Node is Arad, Node is Sibiu, Node is Fagaras]\n",
      "[Node is Arad, Node is Sibiu, Node is Fagaras, Node is Bucharest]\n",
      "4\n",
      "[Node is Arad, Node is Sibiu, Node is Fagaras, Node is Bucharest]\n"
     ]
    }
   ],
   "source": [
    "# Uniform Cost Search - f() is nothing but the path cost\n",
    "f = lambda node: node.path_cost\n",
    "\n",
    "frontier = utils.PriorityQueue(min, f)\n",
    "i, n = best_first_graph_search(romania_problem, frontier)\n",
    "print(i)\n",
    "print(n.path())"
   ]
  },
  {
   "cell_type": "code",
   "execution_count": null,
   "metadata": {
    "collapsed": true
   },
   "outputs": [],
   "source": []
  },
  {
   "cell_type": "code",
   "execution_count": null,
   "metadata": {
    "collapsed": true
   },
   "outputs": [],
   "source": []
  },
  {
   "cell_type": "code",
   "execution_count": null,
   "metadata": {
    "collapsed": true
   },
   "outputs": [],
   "source": []
  },
  {
   "cell_type": "code",
   "execution_count": 2,
   "metadata": {
    "collapsed": false
   },
   "outputs": [
    {
     "data": {
      "image/png": "[encoded data removed]",
      "text/plain": [
       "<matplotlib.figure.Figure at 0x7f59b7767630>"
      ]
     },
     "metadata": {},
     "output_type": "display_data"
    }
   ],
   "source": [
    "import numpy as np\n",
    "import matplotlib.pyplot as plt\n",
    "from matplotlib.animation import FuncAnimation\n",
    "\n",
    "fig, ax = plt.subplots()\n",
    "xdata, ydata = [], []\n",
    "ln, = plt.plot([], [], 'ro', animated=True)\n",
    "\n",
    "def init():\n",
    "    ax.set_xlim(0, 2*np.pi)\n",
    "    ax.set_ylim(-1, 1)\n",
    "    return ln,\n",
    "\n",
    "def update(frame):\n",
    "    xdata.append(frame)\n",
    "    ydata.append(np.sin(frame))\n",
    "    ln.set_data(xdata, ydata)\n",
    "    return ln,\n",
    "\n",
    "ani = FuncAnimation(fig, update, frames=np.linspace(0, 2*np.pi, 128),\n",
    "                    init_func=init, blit=True)\n",
    "plt.show()\n"
   ]
  }
 ],
 "metadata": {
  "kernelspec": {
   "display_name": "Python 3",
   "language": "python",
   "name": "python3"
  },
  "language_info": {
   "codemirror_mode": {
    "name": "ipython",
    "version": 3
   },
   "file_extension": ".py",
   "mimetype": "text/x-python",
   "name": "python",
   "nbconvert_exporter": "python",
   "pygments_lexer": "ipython3",
   "version": "3.4.5"
  }
 },
 "nbformat": 4,
 "nbformat_minor": 2
}
