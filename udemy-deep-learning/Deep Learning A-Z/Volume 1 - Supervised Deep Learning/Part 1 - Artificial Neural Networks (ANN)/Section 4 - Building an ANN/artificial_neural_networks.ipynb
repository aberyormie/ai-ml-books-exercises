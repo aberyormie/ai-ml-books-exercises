{
 "cells": [
  {
   "cell_type": "markdown",
   "metadata": {},
   "source": [
    "## Predict customers who might leave the bank\n",
    "\n",
    "Using ANN for this classification problem"
   ]
  },
  {
   "cell_type": "code",
   "execution_count": 1,
   "metadata": {
    "collapsed": true
   },
   "outputs": [],
   "source": [
    "import numpy as np\n",
    "import matplotlib.pyplot as plt\n",
    "import pandas as pd\n",
    "from sklearn.model_selection import train_test_split"
   ]
  },
  {
   "cell_type": "code",
   "execution_count": 2,
   "metadata": {},
   "outputs": [],
   "source": [
    "dataset = pd.read_csv('Churn_Modelling.csv')"
   ]
  },
  {
   "cell_type": "code",
   "execution_count": 3,
   "metadata": {},
   "outputs": [],
   "source": [
    "X = dataset.iloc[:, 3:13].values\n",
    "y = dataset.iloc[:, 13].values"
   ]
  },
  {
   "cell_type": "code",
   "execution_count": 4,
   "metadata": {},
   "outputs": [
    {
     "data": {
      "text/plain": [
       "10"
      ]
     },
     "execution_count": 4,
     "metadata": {},
     "output_type": "execute_result"
    }
   ],
   "source": [
    "len(X[0])"
   ]
  },
  {
   "cell_type": "code",
   "execution_count": 5,
   "metadata": {},
   "outputs": [],
   "source": [
    "# Encoding Categorical Data\n",
    "X[0]\n",
    "\n",
    "from sklearn.preprocessing import LabelEncoder, OneHotEncoder\n",
    "\n",
    "# Encoding the Independent Variable\n",
    "labelencoder_X1 = LabelEncoder()\n",
    "X[:,1] = labelencoder_X1.fit_transform(X[:,1])\n",
    "\n",
    "labelencoder_X2 = LabelEncoder()\n",
    "X[:,2] = labelencoder_X2.fit_transform(X[:,2])\n",
    "\n",
    "onehotencoder = OneHotEncoder(categorical_features = [1])\n",
    "X = onehotencoder.fit_transform(X).toarray()\n",
    "\n",
    "\n",
    "X = X[:, 1:]"
   ]
  },
  {
   "cell_type": "code",
   "execution_count": 6,
   "metadata": {},
   "outputs": [
    {
     "data": {
      "text/plain": [
       "11"
      ]
     },
     "execution_count": 6,
     "metadata": {},
     "output_type": "execute_result"
    }
   ],
   "source": [
    "len(X[0])"
   ]
  },
  {
   "cell_type": "code",
   "execution_count": 7,
   "metadata": {
    "collapsed": true
   },
   "outputs": [],
   "source": [
    "X_train, X_test, y_train, y_test = train_test_split(X, y, train_size=0.8, random_state=0)"
   ]
  },
  {
   "cell_type": "code",
   "execution_count": 8,
   "metadata": {
    "collapsed": true
   },
   "outputs": [],
   "source": [
    "from sklearn.preprocessing import StandardScaler\n",
    "sc = StandardScaler()\n",
    "X_train = sc.fit_transform(X_train)\n",
    "X_test = sc.transform(X_test)"
   ]
  },
  {
   "cell_type": "code",
   "execution_count": 9,
   "metadata": {},
   "outputs": [
    {
     "name": "stderr",
     "output_type": "stream",
     "text": [
      "Using TensorFlow backend.\n"
     ]
    }
   ],
   "source": [
    "import keras"
   ]
  },
  {
   "cell_type": "code",
   "execution_count": 10,
   "metadata": {
    "collapsed": true
   },
   "outputs": [],
   "source": [
    "from keras.models import Sequential\n",
    "from keras.layers import Dense"
   ]
  },
  {
   "cell_type": "code",
   "execution_count": 12,
   "metadata": {},
   "outputs": [
    {
     "name": "stderr",
     "output_type": "stream",
     "text": [
      "/home/anand/miniconda3/envs/py35/lib/python3.5/site-packages/ipykernel_launcher.py:2: UserWarning: Update your `Dense` call to the Keras 2 API: `Dense(input_dim=11, activation=\"relu\", units=6, kernel_initializer=\"uniform\")`\n",
      "  \n"
     ]
    }
   ],
   "source": [
    "classifier = Sequential()\n",
    "classifier.add(Dense(output_dim=6, init='uniform', activation='relu', input_dim=11))"
   ]
  },
  {
   "cell_type": "code",
   "execution_count": 14,
   "metadata": {},
   "outputs": [
    {
     "name": "stderr",
     "output_type": "stream",
     "text": [
      "/home/anand/miniconda3/envs/py35/lib/python3.5/site-packages/ipykernel_launcher.py:1: UserWarning: Update your `Dense` call to the Keras 2 API: `Dense(units=6, activation=\"relu\", kernel_initializer=\"uniform\")`\n",
      "  \"\"\"Entry point for launching an IPython kernel.\n"
     ]
    }
   ],
   "source": [
    "classifier.add(Dense(output_dim=6, init='uniform', activation='relu'))"
   ]
  },
  {
   "cell_type": "code",
   "execution_count": 15,
   "metadata": {},
   "outputs": [
    {
     "name": "stderr",
     "output_type": "stream",
     "text": [
      "/home/anand/miniconda3/envs/py35/lib/python3.5/site-packages/ipykernel_launcher.py:1: UserWarning: Update your `Dense` call to the Keras 2 API: `Dense(units=1, activation=\"sigmoid\", kernel_initializer=\"uniform\")`\n",
      "  \"\"\"Entry point for launching an IPython kernel.\n"
     ]
    }
   ],
   "source": [
    "classifier.add(Dense(output_dim=1, init='uniform', activation='sigmoid'))"
   ]
  },
  {
   "cell_type": "code",
   "execution_count": 18,
   "metadata": {},
   "outputs": [],
   "source": [
    "classifier.compile(optimizer='adam', loss='binary_crossentropy', metrics = ['accuracy'])"
   ]
  },
  {
   "cell_type": "code",
   "execution_count": 19,
   "metadata": {},
   "outputs": [
    {
     "name": "stderr",
     "output_type": "stream",
     "text": [
      "/home/anand/miniconda3/envs/py35/lib/python3.5/site-packages/keras/models.py:826: UserWarning: The `nb_epoch` argument in `fit` has been renamed `epochs`.\n",
      "  warnings.warn('The `nb_epoch` argument in `fit` '\n"
     ]
    },
    {
     "name": "stdout",
     "output_type": "stream",
     "text": [
      "Epoch 1/100\n",
      "8000/8000 [==============================] - 32s - loss: 0.4882 - acc: 0.7959    \n",
      "Epoch 2/100\n",
      "8000/8000 [==============================] - 2s - loss: 0.4279 - acc: 0.7960     \n",
      "Epoch 3/100\n",
      "8000/8000 [==============================] - 2s - loss: 0.4225 - acc: 0.7960     \n",
      "Epoch 4/100\n",
      "8000/8000 [==============================] - 2s - loss: 0.4185 - acc: 0.8154     \n",
      "Epoch 5/100\n",
      "8000/8000 [==============================] - 2s - loss: 0.4157 - acc: 0.8265     \n",
      "Epoch 6/100\n",
      "8000/8000 [==============================] - 2s - loss: 0.4142 - acc: 0.8289     \n",
      "Epoch 7/100\n",
      "8000/8000 [==============================] - 2s - loss: 0.4126 - acc: 0.8326     \n",
      "Epoch 8/100\n",
      "8000/8000 [==============================] - 2s - loss: 0.4115 - acc: 0.8313     \n",
      "Epoch 9/100\n",
      "8000/8000 [==============================] - 2s - loss: 0.4107 - acc: 0.8323     \n",
      "Epoch 10/100\n",
      "8000/8000 [==============================] - 2s - loss: 0.4093 - acc: 0.8336     \n",
      "Epoch 11/100\n",
      "8000/8000 [==============================] - 2s - loss: 0.4086 - acc: 0.8340     \n",
      "Epoch 12/100\n",
      "8000/8000 [==============================] - 2s - loss: 0.4078 - acc: 0.8339     \n",
      "Epoch 13/100\n",
      "8000/8000 [==============================] - 2s - loss: 0.4075 - acc: 0.8345     \n",
      "Epoch 14/100\n",
      "8000/8000 [==============================] - 2s - loss: 0.4069 - acc: 0.8343     \n",
      "Epoch 15/100\n",
      "8000/8000 [==============================] - 2s - loss: 0.4068 - acc: 0.8346     \n",
      "Epoch 16/100\n",
      "8000/8000 [==============================] - 2s - loss: 0.4060 - acc: 0.8349     \n",
      "Epoch 17/100\n",
      "8000/8000 [==============================] - 2s - loss: 0.4062 - acc: 0.8345     \n",
      "Epoch 18/100\n",
      "8000/8000 [==============================] - 2s - loss: 0.4054 - acc: 0.8350     \n",
      "Epoch 19/100\n",
      "8000/8000 [==============================] - 2s - loss: 0.4046 - acc: 0.8358     \n",
      "Epoch 20/100\n",
      "8000/8000 [==============================] - 2s - loss: 0.4051 - acc: 0.8360     \n",
      "Epoch 21/100\n",
      "8000/8000 [==============================] - 2s - loss: 0.4045 - acc: 0.8350     \n",
      "Epoch 22/100\n",
      "8000/8000 [==============================] - 2s - loss: 0.4045 - acc: 0.8354     \n",
      "Epoch 23/100\n",
      "8000/8000 [==============================] - 2s - loss: 0.4044 - acc: 0.8345     \n",
      "Epoch 24/100\n",
      "8000/8000 [==============================] - 2s - loss: 0.4038 - acc: 0.8330     \n",
      "Epoch 25/100\n",
      "8000/8000 [==============================] - 2s - loss: 0.4037 - acc: 0.8349     \n",
      "Epoch 26/100\n",
      "8000/8000 [==============================] - 2s - loss: 0.4040 - acc: 0.8351     \n",
      "Epoch 27/100\n",
      "8000/8000 [==============================] - 2s - loss: 0.4030 - acc: 0.8349     \n",
      "Epoch 28/100\n",
      "8000/8000 [==============================] - 2s - loss: 0.4031 - acc: 0.8348     \n",
      "Epoch 29/100\n",
      "8000/8000 [==============================] - 2s - loss: 0.4034 - acc: 0.8353     \n",
      "Epoch 30/100\n",
      "8000/8000 [==============================] - 2s - loss: 0.4030 - acc: 0.8339     \n",
      "Epoch 31/100\n",
      "8000/8000 [==============================] - 2s - loss: 0.4030 - acc: 0.8346     \n",
      "Epoch 32/100\n",
      "8000/8000 [==============================] - 2s - loss: 0.4032 - acc: 0.8338     \n",
      "Epoch 33/100\n",
      "8000/8000 [==============================] - 2s - loss: 0.4024 - acc: 0.8344     \n",
      "Epoch 34/100\n",
      "8000/8000 [==============================] - 2s - loss: 0.4027 - acc: 0.8354     \n",
      "Epoch 35/100\n",
      "8000/8000 [==============================] - 2s - loss: 0.4023 - acc: 0.8341     \n",
      "Epoch 36/100\n",
      "8000/8000 [==============================] - 2s - loss: 0.4027 - acc: 0.8344     \n",
      "Epoch 37/100\n",
      "8000/8000 [==============================] - 2s - loss: 0.4025 - acc: 0.8354     \n",
      "Epoch 38/100\n",
      "8000/8000 [==============================] - 2s - loss: 0.4024 - acc: 0.8345     \n",
      "Epoch 39/100\n",
      "8000/8000 [==============================] - 2s - loss: 0.4025 - acc: 0.8353     \n",
      "Epoch 40/100\n",
      "8000/8000 [==============================] - 2s - loss: 0.4021 - acc: 0.8344     \n",
      "Epoch 41/100\n",
      "8000/8000 [==============================] - 2s - loss: 0.4020 - acc: 0.8345     \n",
      "Epoch 42/100\n",
      "8000/8000 [==============================] - 2s - loss: 0.4025 - acc: 0.8341     \n",
      "Epoch 43/100\n",
      "8000/8000 [==============================] - 2s - loss: 0.4016 - acc: 0.8345     \n",
      "Epoch 44/100\n",
      "8000/8000 [==============================] - 2s - loss: 0.4017 - acc: 0.8360     \n",
      "Epoch 45/100\n",
      "8000/8000 [==============================] - 2s - loss: 0.4015 - acc: 0.8350     \n",
      "Epoch 46/100\n",
      "8000/8000 [==============================] - 2s - loss: 0.4014 - acc: 0.8338     \n",
      "Epoch 47/100\n",
      "8000/8000 [==============================] - 2s - loss: 0.4020 - acc: 0.8365     \n",
      "Epoch 48/100\n",
      "8000/8000 [==============================] - 2s - loss: 0.4013 - acc: 0.8341     \n",
      "Epoch 49/100\n",
      "8000/8000 [==============================] - 2s - loss: 0.4014 - acc: 0.8341     \n",
      "Epoch 50/100\n",
      "8000/8000 [==============================] - 2s - loss: 0.4014 - acc: 0.8360     \n",
      "Epoch 51/100\n",
      "8000/8000 [==============================] - 2s - loss: 0.4015 - acc: 0.8341     \n",
      "Epoch 52/100\n",
      "8000/8000 [==============================] - 2s - loss: 0.4012 - acc: 0.8355     \n",
      "Epoch 53/100\n",
      "8000/8000 [==============================] - 2s - loss: 0.4011 - acc: 0.8343     \n",
      "Epoch 54/100\n",
      "8000/8000 [==============================] - 2s - loss: 0.4007 - acc: 0.8356     \n",
      "Epoch 55/100\n",
      "8000/8000 [==============================] - 2s - loss: 0.4016 - acc: 0.8340     \n",
      "Epoch 56/100\n",
      "8000/8000 [==============================] - 2s - loss: 0.4010 - acc: 0.8355     \n",
      "Epoch 57/100\n",
      "8000/8000 [==============================] - 2s - loss: 0.4017 - acc: 0.8355     \n",
      "Epoch 58/100\n",
      "8000/8000 [==============================] - 2s - loss: 0.4009 - acc: 0.8343     \n",
      "Epoch 59/100\n",
      "8000/8000 [==============================] - 2s - loss: 0.4011 - acc: 0.8345     \n",
      "Epoch 60/100\n",
      "8000/8000 [==============================] - 2s - loss: 0.4013 - acc: 0.8356     \n",
      "Epoch 61/100\n",
      "8000/8000 [==============================] - 2s - loss: 0.4012 - acc: 0.8349     \n",
      "Epoch 62/100\n",
      "8000/8000 [==============================] - 2s - loss: 0.4010 - acc: 0.8359     \n",
      "Epoch 63/100\n",
      "8000/8000 [==============================] - 2s - loss: 0.4009 - acc: 0.8355     \n",
      "Epoch 64/100\n",
      "8000/8000 [==============================] - 2s - loss: 0.4010 - acc: 0.8336     \n",
      "Epoch 65/100\n",
      "8000/8000 [==============================] - 2s - loss: 0.4015 - acc: 0.8343     \n",
      "Epoch 66/100\n",
      "8000/8000 [==============================] - 2s - loss: 0.4003 - acc: 0.8349     \n",
      "Epoch 67/100\n",
      "8000/8000 [==============================] - 2s - loss: 0.4009 - acc: 0.8356     \n",
      "Epoch 68/100\n",
      "8000/8000 [==============================] - 2s - loss: 0.4007 - acc: 0.8353     \n",
      "Epoch 69/100\n",
      "8000/8000 [==============================] - 2s - loss: 0.4013 - acc: 0.8349     \n",
      "Epoch 70/100\n",
      "8000/8000 [==============================] - 2s - loss: 0.4009 - acc: 0.8373     \n",
      "Epoch 71/100\n",
      "8000/8000 [==============================] - 2s - loss: 0.4008 - acc: 0.8350     \n",
      "Epoch 72/100\n",
      "8000/8000 [==============================] - 2s - loss: 0.4006 - acc: 0.8358     \n",
      "Epoch 73/100\n",
      "8000/8000 [==============================] - 2s - loss: 0.4003 - acc: 0.8351     \n",
      "Epoch 74/100\n",
      "8000/8000 [==============================] - 2s - loss: 0.4012 - acc: 0.8359     \n",
      "Epoch 75/100\n",
      "8000/8000 [==============================] - 2s - loss: 0.4008 - acc: 0.8355     \n",
      "Epoch 76/100\n",
      "8000/8000 [==============================] - 2s - loss: 0.4005 - acc: 0.8338     \n",
      "Epoch 77/100\n",
      "8000/8000 [==============================] - 2s - loss: 0.4005 - acc: 0.8348     \n",
      "Epoch 78/100\n",
      "8000/8000 [==============================] - 2s - loss: 0.4005 - acc: 0.8346     \n",
      "Epoch 79/100\n",
      "8000/8000 [==============================] - 2s - loss: 0.4005 - acc: 0.8356     \n",
      "Epoch 80/100\n",
      "8000/8000 [==============================] - 2s - loss: 0.4008 - acc: 0.8360     \n",
      "Epoch 81/100\n",
      "8000/8000 [==============================] - 2s - loss: 0.4008 - acc: 0.8360     \n",
      "Epoch 82/100\n",
      "8000/8000 [==============================] - 2s - loss: 0.4006 - acc: 0.8351     \n",
      "Epoch 83/100\n",
      "8000/8000 [==============================] - 2s - loss: 0.4006 - acc: 0.8346     \n",
      "Epoch 84/100\n",
      "8000/8000 [==============================] - 2s - loss: 0.4009 - acc: 0.8354     \n",
      "Epoch 85/100\n",
      "8000/8000 [==============================] - 2s - loss: 0.4002 - acc: 0.8349     \n",
      "Epoch 86/100\n",
      "8000/8000 [==============================] - 2s - loss: 0.4007 - acc: 0.8356     \n",
      "Epoch 87/100\n"
     ]
    },
    {
     "name": "stdout",
     "output_type": "stream",
     "text": [
      "8000/8000 [==============================] - 2s - loss: 0.4003 - acc: 0.8351     \n",
      "Epoch 88/100\n",
      "8000/8000 [==============================] - 2s - loss: 0.4004 - acc: 0.8351     \n",
      "Epoch 89/100\n",
      "8000/8000 [==============================] - 2s - loss: 0.4006 - acc: 0.8353     \n",
      "Epoch 90/100\n",
      "8000/8000 [==============================] - 2s - loss: 0.4007 - acc: 0.8353     \n",
      "Epoch 91/100\n",
      "8000/8000 [==============================] - 2s - loss: 0.4009 - acc: 0.8360     \n",
      "Epoch 92/100\n",
      "8000/8000 [==============================] - 2s - loss: 0.4005 - acc: 0.8349     \n",
      "Epoch 93/100\n",
      "8000/8000 [==============================] - 2s - loss: 0.4005 - acc: 0.8355     \n",
      "Epoch 94/100\n",
      "8000/8000 [==============================] - 2s - loss: 0.4007 - acc: 0.8344     \n",
      "Epoch 95/100\n",
      "8000/8000 [==============================] - 2s - loss: 0.4003 - acc: 0.8348     \n",
      "Epoch 96/100\n",
      "8000/8000 [==============================] - 2s - loss: 0.4003 - acc: 0.8355     \n",
      "Epoch 97/100\n",
      "8000/8000 [==============================] - 2s - loss: 0.4007 - acc: 0.8353     \n",
      "Epoch 98/100\n",
      "8000/8000 [==============================] - 2s - loss: 0.4004 - acc: 0.8353     \n",
      "Epoch 99/100\n",
      "8000/8000 [==============================] - 2s - loss: 0.4004 - acc: 0.8341     \n",
      "Epoch 100/100\n",
      "8000/8000 [==============================] - 2s - loss: 0.4001 - acc: 0.8345     \n"
     ]
    },
    {
     "data": {
      "text/plain": [
       "<keras.callbacks.History at 0x7f6d2acf1e48>"
      ]
     },
     "execution_count": 19,
     "metadata": {},
     "output_type": "execute_result"
    }
   ],
   "source": [
    "classifier.fit(X_train, y_train, batch_size=10, nb_epoch=100)"
   ]
  },
  {
   "cell_type": "code",
   "execution_count": null,
   "metadata": {
    "collapsed": true
   },
   "outputs": [],
   "source": []
  },
  {
   "cell_type": "code",
   "execution_count": null,
   "metadata": {
    "collapsed": true
   },
   "outputs": [],
   "source": []
  },
  {
   "cell_type": "code",
   "execution_count": null,
   "metadata": {
    "collapsed": true
   },
   "outputs": [],
   "source": []
  },
  {
   "cell_type": "code",
   "execution_count": null,
   "metadata": {
    "collapsed": true
   },
   "outputs": [],
   "source": []
  },
  {
   "cell_type": "code",
   "execution_count": 21,
   "metadata": {},
   "outputs": [],
   "source": [
    "y_pred = classifier.predict(X_test)"
   ]
  },
  {
   "cell_type": "code",
   "execution_count": 31,
   "metadata": {
    "collapsed": true
   },
   "outputs": [],
   "source": [
    "y_pred1 = (y_pred > 0.5)"
   ]
  },
  {
   "cell_type": "code",
   "execution_count": 32,
   "metadata": {
    "scrolled": true
   },
   "outputs": [],
   "source": [
    "from sklearn.metrics import confusion_matrix\n",
    "cm = confusion_matrix(y_test, y_pred1)"
   ]
  },
  {
   "cell_type": "code",
   "execution_count": 33,
   "metadata": {},
   "outputs": [
    {
     "data": {
      "text/plain": [
       "array([[1554,   41],\n",
       "       [ 276,  129]])"
      ]
     },
     "execution_count": 33,
     "metadata": {},
     "output_type": "execute_result"
    }
   ],
   "source": [
    "cm"
   ]
  },
  {
   "cell_type": "code",
   "execution_count": null,
   "metadata": {
    "collapsed": true
   },
   "outputs": [],
   "source": []
  }
 ],
 "metadata": {
  "kernelspec": {
   "display_name": "Python 3",
   "language": "python",
   "name": "python3"
  },
  "language_info": {
   "codemirror_mode": {
    "name": "ipython",
    "version": 3
   },
   "file_extension": ".py",
   "mimetype": "text/x-python",
   "name": "python",
   "nbconvert_exporter": "python",
   "pygments_lexer": "ipython3",
   "version": "3.5.3"
  }
 },
 "nbformat": 4,
 "nbformat_minor": 2
}
